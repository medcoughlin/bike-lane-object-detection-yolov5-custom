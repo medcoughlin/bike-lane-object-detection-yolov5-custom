{
 "cells": [
  {
   "cell_type": "code",
   "execution_count": 2,
   "metadata": {},
   "outputs": [],
   "source": [
    "# pip install --upgrade pip"
   ]
  },
  {
   "cell_type": "code",
   "execution_count": 3,
   "metadata": {},
   "outputs": [],
   "source": [
    "# pip freeze > requirements.txt"
   ]
  },
  {
   "cell_type": "code",
   "execution_count": 4,
   "metadata": {},
   "outputs": [],
   "source": [
    "# from ultralytics import YOLO\n",
    "# from ultralytics.yolo.v8.detect.predict import DetectionPredictor\n",
    "\n",
    "# import cv2\n",
    "\n",
    "# model = YOLO(\"yolov8x-seg.pt\")\n",
    "\n",
    "# results = model.predict(source=0, show = True)\n",
    "# print(results)"
   ]
  },
  {
   "cell_type": "code",
   "execution_count": 5,
   "metadata": {},
   "outputs": [
    {
     "name": "stdout",
     "output_type": "stream",
     "text": [
      "c:\\Users\\medco\\OneDrive\\Documents\\GitHub\n"
     ]
    }
   ],
   "source": [
    "cd .."
   ]
  },
  {
   "cell_type": "code",
   "execution_count": 6,
   "metadata": {},
   "outputs": [
    {
     "name": "stdout",
     "output_type": "stream",
     "text": [
      "c:\\Users\\medco\\OneDrive\\Documents\\GitHub\\motorcycle-detection-using-yolov5-python-computer-vision\n"
     ]
    }
   ],
   "source": [
    "cd motorcycle-detection-using-yolov5-python-computer-vision"
   ]
  },
  {
   "cell_type": "code",
   "execution_count": 7,
   "metadata": {},
   "outputs": [],
   "source": [
    "import math\n",
    "\n",
    "\n",
    "class Tracker:\n",
    "    def __init__(self):\n",
    "        # Store the center positions of the objects\n",
    "        self.center_points = {}\n",
    "        # Keep the count of the IDs\n",
    "        # each time a new object id detected, the count will increase by one\n",
    "        self.id_count = 0\n",
    "\n",
    "\n",
    "    def update(self, objects_rect):\n",
    "        # Objects boxes and ids\n",
    "        objects_bbs_ids = []\n",
    "\n",
    "        # Get center point of new object\n",
    "        for rect in objects_rect:\n",
    "            x, y, w, h = rect\n",
    "            cx = (x + x + w) // 2\n",
    "            cy = (y + y + h) // 2\n",
    "\n",
    "            # Find out if that object was detected already\n",
    "            same_object_detected = False\n",
    "            for id, pt in self.center_points.items():\n",
    "                dist = math.hypot(cx - pt[0], cy - pt[1])\n",
    "\n",
    "                if dist < 35:\n",
    "                    self.center_points[id] = (cx, cy)\n",
    "#                    print(self.center_points)\n",
    "                    objects_bbs_ids.append([x, y, w, h, id])\n",
    "                    same_object_detected = True\n",
    "                    break\n",
    "\n",
    "            # New object is detected we assign the ID to that object\n",
    "            if same_object_detected is False:\n",
    "                self.center_points[self.id_count] = (cx, cy)\n",
    "                objects_bbs_ids.append([x, y, w, h, self.id_count])\n",
    "                self.id_count += 1\n",
    "\n",
    "        # Clean the dictionary by center points to remove IDS not used anymore\n",
    "        new_center_points = {}\n",
    "        for obj_bb_id in objects_bbs_ids:\n",
    "            _, _, _, _, object_id = obj_bb_id\n",
    "            center = self.center_points[object_id]\n",
    "            new_center_points[object_id] = center\n",
    "\n",
    "        # Update dictionary with IDs not used removed\n",
    "        self.center_points = new_center_points.copy()\n",
    "        return objects_bbs_ids"
   ]
  },
  {
   "cell_type": "code",
   "execution_count": 11,
   "metadata": {},
   "outputs": [
    {
     "name": "stdout",
     "output_type": "stream",
     "text": [
      "Note: you may need to restart the kernel to use updated packages.\n"
     ]
    },
    {
     "name": "stderr",
     "output_type": "stream",
     "text": [
      "WARNING: Ignoring invalid distribution -pencv-python-headless (c:\\users\\medco\\anaconda3\\envs\\geo_env\\lib\\site-packages)\n"
     ]
    }
   ],
   "source": [
    "pip freeze > requirements.txt"
   ]
  },
  {
   "cell_type": "code",
   "execution_count": 13,
   "metadata": {},
   "outputs": [
    {
     "name": "stderr",
     "output_type": "stream",
     "text": [
      "Cloning into 'yolov5'...\n"
     ]
    }
   ],
   "source": [
    "!git clone https://github.com/ultralytics/yolov5.git "
   ]
  },
  {
   "cell_type": "code",
   "execution_count": 14,
   "metadata": {},
   "outputs": [
    {
     "name": "stdout",
     "output_type": "stream",
     "text": [
      "c:\\Users\\medco\\OneDrive\\Documents\\GitHub\\motorcycle-detection-using-yolov5-python-computer-vision\\yolov5\n"
     ]
    }
   ],
   "source": [
    "cd yolov5"
   ]
  },
  {
   "cell_type": "code",
   "execution_count": 15,
   "metadata": {},
   "outputs": [
    {
     "name": "stdout",
     "output_type": "stream",
     "text": [
      "Note: you may need to restart the kernel to use updated packages.\n"
     ]
    },
    {
     "name": "stderr",
     "output_type": "stream",
     "text": [
      "WARNING: Ignoring invalid distribution -pencv-python-headless (c:\\users\\medco\\anaconda3\\envs\\geo_env\\lib\\site-packages)\n"
     ]
    }
   ],
   "source": [
    "pip freeze > requirements.txt"
   ]
  },
  {
   "cell_type": "code",
   "execution_count": 16,
   "metadata": {},
   "outputs": [
    {
     "name": "stderr",
     "output_type": "stream",
     "text": [
      "\u001b[34m\u001b[1mtrain: \u001b[0mweights='', cfg=yolov5s.yaml, data=coco.yaml, hyp=data\\hyps\\hyp.scratch-low.yaml, epochs=300, batch_size=64, imgsz=640, rect=False, resume=False, nosave=False, noval=False, noautoanchor=False, noplots=False, evolve=None, bucket=, cache=None, image_weights=False, device=, multi_scale=False, single_cls=False, optimizer=SGD, sync_bn=False, workers=8, project=runs\\train, name=exp, exist_ok=False, quad=False, cos_lr=False, label_smoothing=0.0, patience=100, freeze=[0], save_period=-1, seed=0, local_rank=-1, entity=None, upload_dataset=False, bbox_interval=-1, artifact_alias=latest\n",
      "\u001b[34m\u001b[1mgithub: \u001b[0mup to date with https://github.com/ultralytics/yolov5 \n",
      "\u001b[31m\u001b[1mrequirements:\u001b[0m YOLOv5 requirements \"dask-ml==2022.1.22\" \"numba==0.55.1\" \"numpy==1.21.5\" not found, attempting AutoUpdate...\n",
      "Requirement already satisfied: dask-ml==2022.1.22 in c:\\users\\medco\\anaconda3\\envs\\geo_env\\lib\\site-packages (2022.1.22)\n",
      "Requirement already satisfied: numba==0.55.1 in c:\\users\\medco\\anaconda3\\envs\\geo_env\\lib\\site-packages (0.55.1)\n",
      "Requirement already satisfied: numpy==1.21.5 in c:\\users\\medco\\anaconda3\\envs\\geo_env\\lib\\site-packages (1.21.5)\n",
      "Requirement already satisfied: dask[array,dataframe]>=2.4.0 in c:\\users\\medco\\anaconda3\\envs\\geo_env\\lib\\site-packages (from dask-ml==2022.1.22) (2022.2.1)\n",
      "Requirement already satisfied: distributed>=2.4.0 in c:\\users\\medco\\anaconda3\\envs\\geo_env\\lib\\site-packages (from dask-ml==2022.1.22) (2022.2.1)\n",
      "Requirement already satisfied: pandas>=0.24.2 in c:\\users\\medco\\anaconda3\\envs\\geo_env\\lib\\site-packages (from dask-ml==2022.1.22) (1.4.1)\n",
      "Requirement already satisfied: scikit-learn>=1.0.0 in c:\\users\\medco\\anaconda3\\envs\\geo_env\\lib\\site-packages (from dask-ml==2022.1.22) (1.0.2)\n",
      "Requirement already satisfied: scipy in c:\\users\\medco\\anaconda3\\envs\\geo_env\\lib\\site-packages (from dask-ml==2022.1.22) (1.8.0)\n",
      "Requirement already satisfied: dask-glm>=0.2.0 in c:\\users\\medco\\anaconda3\\envs\\geo_env\\lib\\site-packages (from dask-ml==2022.1.22) (0.2.0)\n",
      "Requirement already satisfied: multipledispatch>=0.4.9 in c:\\users\\medco\\anaconda3\\envs\\geo_env\\lib\\site-packages (from dask-ml==2022.1.22) (0.6.0)\n",
      "Requirement already satisfied: packaging in c:\\users\\medco\\anaconda3\\envs\\geo_env\\lib\\site-packages (from dask-ml==2022.1.22) (21.3)\n",
      "Requirement already satisfied: llvmlite<0.39,>=0.38.0rc1 in c:\\users\\medco\\anaconda3\\envs\\geo_env\\lib\\site-packages (from numba==0.55.1) (0.38.0)\n",
      "Requirement already satisfied: setuptools in c:\\users\\medco\\anaconda3\\envs\\geo_env\\lib\\site-packages (from numba==0.55.1) (62.1.0)\n",
      "Requirement already satisfied: cloudpickle>=0.2.2 in c:\\users\\medco\\anaconda3\\envs\\geo_env\\lib\\site-packages (from dask-glm>=0.2.0->dask-ml==2022.1.22) (2.0.0)\n",
      "Requirement already satisfied: fsspec>=0.6.0 in c:\\users\\medco\\anaconda3\\envs\\geo_env\\lib\\site-packages (from dask[array,dataframe]>=2.4.0->dask-ml==2022.1.22) (2022.2.0)\n",
      "Requirement already satisfied: partd>=0.3.10 in c:\\users\\medco\\anaconda3\\envs\\geo_env\\lib\\site-packages (from dask[array,dataframe]>=2.4.0->dask-ml==2022.1.22) (1.2.0)\n",
      "Requirement already satisfied: pyyaml>=5.3.1 in c:\\users\\medco\\anaconda3\\envs\\geo_env\\lib\\site-packages (from dask[array,dataframe]>=2.4.0->dask-ml==2022.1.22) (6.0)\n",
      "Requirement already satisfied: toolz>=0.8.2 in c:\\users\\medco\\anaconda3\\envs\\geo_env\\lib\\site-packages (from dask[array,dataframe]>=2.4.0->dask-ml==2022.1.22) (0.11.2)\n",
      "Requirement already satisfied: click>=6.6 in c:\\users\\medco\\anaconda3\\envs\\geo_env\\lib\\site-packages (from distributed>=2.4.0->dask-ml==2022.1.22) (8.0.4)\n",
      "Requirement already satisfied: jinja2 in c:\\users\\medco\\anaconda3\\envs\\geo_env\\lib\\site-packages (from distributed>=2.4.0->dask-ml==2022.1.22) (3.0.3)\n",
      "Requirement already satisfied: msgpack>=0.6.0 in c:\\users\\medco\\anaconda3\\envs\\geo_env\\lib\\site-packages (from distributed>=2.4.0->dask-ml==2022.1.22) (1.0.3)\n",
      "Requirement already satisfied: psutil>=5.0 in c:\\users\\medco\\anaconda3\\envs\\geo_env\\lib\\site-packages (from distributed>=2.4.0->dask-ml==2022.1.22) (5.9.0)\n",
      "Requirement already satisfied: sortedcontainers!=2.0.0,!=2.0.1 in c:\\users\\medco\\anaconda3\\envs\\geo_env\\lib\\site-packages (from distributed>=2.4.0->dask-ml==2022.1.22) (2.4.0)\n",
      "Requirement already satisfied: tblib>=1.6.0 in c:\\users\\medco\\anaconda3\\envs\\geo_env\\lib\\site-packages (from distributed>=2.4.0->dask-ml==2022.1.22) (1.7.0)\n",
      "Requirement already satisfied: tornado>=6.0.3 in c:\\users\\medco\\anaconda3\\envs\\geo_env\\lib\\site-packages (from distributed>=2.4.0->dask-ml==2022.1.22) (6.1)\n",
      "Requirement already satisfied: zict>=0.1.3 in c:\\users\\medco\\anaconda3\\envs\\geo_env\\lib\\site-packages (from distributed>=2.4.0->dask-ml==2022.1.22) (2.1.0)\n",
      "Requirement already satisfied: six in c:\\users\\medco\\anaconda3\\envs\\geo_env\\lib\\site-packages (from multipledispatch>=0.4.9->dask-ml==2022.1.22) (1.16.0)\n",
      "Requirement already satisfied: pyparsing!=3.0.5,>=2.0.2 in c:\\users\\medco\\anaconda3\\envs\\geo_env\\lib\\site-packages (from packaging->dask-ml==2022.1.22) (3.0.7)\n",
      "Requirement already satisfied: python-dateutil>=2.8.1 in c:\\users\\medco\\anaconda3\\envs\\geo_env\\lib\\site-packages (from pandas>=0.24.2->dask-ml==2022.1.22) (2.8.2)\n",
      "Requirement already satisfied: pytz>=2020.1 in c:\\users\\medco\\anaconda3\\envs\\geo_env\\lib\\site-packages (from pandas>=0.24.2->dask-ml==2022.1.22) (2021.3)\n",
      "Requirement already satisfied: joblib>=0.11 in c:\\users\\medco\\anaconda3\\envs\\geo_env\\lib\\site-packages (from scikit-learn>=1.0.0->dask-ml==2022.1.22) (1.1.0)\n",
      "Requirement already satisfied: threadpoolctl>=2.0.0 in c:\\users\\medco\\anaconda3\\envs\\geo_env\\lib\\site-packages (from scikit-learn>=1.0.0->dask-ml==2022.1.22) (3.1.0)\n",
      "Requirement already satisfied: colorama in c:\\users\\medco\\anaconda3\\envs\\geo_env\\lib\\site-packages (from click>=6.6->distributed>=2.4.0->dask-ml==2022.1.22) (0.4.4)\n",
      "Requirement already satisfied: locket in c:\\users\\medco\\anaconda3\\envs\\geo_env\\lib\\site-packages (from partd>=0.3.10->dask[array,dataframe]>=2.4.0->dask-ml==2022.1.22) (0.2.0)\n",
      "Requirement already satisfied: heapdict in c:\\users\\medco\\anaconda3\\envs\\geo_env\\lib\\site-packages (from zict>=0.1.3->distributed>=2.4.0->dask-ml==2022.1.22) (1.0.1)\n",
      "Requirement already satisfied: MarkupSafe>=2.0 in c:\\users\\medco\\anaconda3\\envs\\geo_env\\lib\\site-packages (from jinja2->distributed>=2.4.0->dask-ml==2022.1.22) (2.1.1)\n",
      "\n",
      "\u001b[31m\u001b[1mrequirements:\u001b[0m 3 packages updated per C:\\Users\\medco\\OneDrive\\Documents\\GitHub\\motorcycle-detection-using-yolov5-python-computer-vision\\yolov5\\requirements.txt\n",
      "\u001b[31m\u001b[1mrequirements:\u001b[0m  \u001b[1mRestart runtime or rerun command for updates to take effect\u001b[0m\n",
      "\n",
      "YOLOv5  v7.0-167-g5deff14 Python-3.10.2 torch-1.11.0+cpu CPU\n",
      "\n",
      "\u001b[34m\u001b[1mhyperparameters: \u001b[0mlr0=0.01, lrf=0.01, momentum=0.937, weight_decay=0.0005, warmup_epochs=3.0, warmup_momentum=0.8, warmup_bias_lr=0.1, box=0.05, cls=0.5, cls_pw=1.0, obj=1.0, obj_pw=1.0, iou_t=0.2, anchor_t=4.0, fl_gamma=0.0, hsv_h=0.015, hsv_s=0.7, hsv_v=0.4, degrees=0.0, translate=0.1, scale=0.5, shear=0.0, perspective=0.0, flipud=0.0, fliplr=0.5, mosaic=1.0, mixup=0.0, copy_paste=0.0\n",
      "\u001b[34m\u001b[1mClearML: \u001b[0mrun 'pip install clearml' to automatically track, visualize and remotely train YOLOv5  in ClearML\n",
      "\u001b[34m\u001b[1mComet: \u001b[0mrun 'pip install comet_ml' to automatically track and visualize YOLOv5  runs in Comet\n",
      "\u001b[34m\u001b[1mTensorBoard: \u001b[0mStart with 'tensorboard --logdir runs\\train', view at http://localhost:6006/\n",
      "\n",
      "Dataset not found , missing paths ['C:\\\\Users\\\\medco\\\\OneDrive\\\\Documents\\\\GitHub\\\\motorcycle-detection-using-yolov5-python-computer-vision\\\\datasets\\\\coco\\\\val2017.txt']\n",
      "Downloading https://github.com/ultralytics/yolov5/releases/download/v1.0/coco2017labels.zip to C:\\Users\\medco\\OneDrive\\Documents\\GitHub\\motorcycle-detection-using-yolov5-python-computer-vision\\datasets\\coco2017labels.zip...\n"
     ]
    },
    {
     "data": {
      "application/vnd.jupyter.widget-view+json": {
       "model_id": "ba6bb9630cd44e18b6cbb151cf11a949",
       "version_major": 2,
       "version_minor": 0
      },
      "text/plain": [
       "  0%|          | 0.00/46.4M [00:00<?, ?B/s]"
      ]
     },
     "metadata": {},
     "output_type": "display_data"
    },
    {
     "name": "stderr",
     "output_type": "stream",
     "text": [
      "Unzipping C:\\Users\\medco\\OneDrive\\Documents\\GitHub\\motorcycle-detection-using-yolov5-python-computer-vision\\datasets\\coco2017labels.zip...\n",
      "Downloading http://images.cocodataset.org/zips/train2017.zip to C:\\Users\\medco\\OneDrive\\Documents\\GitHub\\motorcycle-detection-using-yolov5-python-computer-vision\\datasets\\coco\\images\\train2017.zip...\n",
      "Downloading http://images.cocodataset.org/zips/test2017.zip to C:\\Users\\medco\\OneDrive\\Documents\\GitHub\\motorcycle-detection-using-yolov5-python-computer-vision\\datasets\\coco\\images\\test2017.zip...\n",
      "Downloading http://images.cocodataset.org/zips/val2017.zip to C:\\Users\\medco\\OneDrive\\Documents\\GitHub\\motorcycle-detection-using-yolov5-python-computer-vision\\datasets\\coco\\images\\val2017.zip...\n",
      "Unzipping C:\\Users\\medco\\OneDrive\\Documents\\GitHub\\motorcycle-detection-using-yolov5-python-computer-vision\\datasets\\coco\\images\\val2017.zip...\n",
      "Unzipping C:\\Users\\medco\\OneDrive\\Documents\\GitHub\\motorcycle-detection-using-yolov5-python-computer-vision\\datasets\\coco\\images\\test2017.zip...\n",
      "Unzipping C:\\Users\\medco\\OneDrive\\Documents\\GitHub\\motorcycle-detection-using-yolov5-python-computer-vision\\datasets\\coco\\images\\train2017.zip...\n",
      "Dataset download success  (2549.5s), saved to \u001b[1mC:\\Users\\medco\\OneDrive\\Documents\\GitHub\\motorcycle-detection-using-yolov5-python-computer-vision\\datasets\u001b[0m\n",
      "\n",
      "                 from  n    params  module                                  arguments                     \n",
      "  0                -1  1      3520  models.common.Conv                      [3, 32, 6, 2, 2]              \n",
      "  1                -1  1     18560  models.common.Conv                      [32, 64, 3, 2]                \n",
      "  2                -1  1     18816  models.common.C3                        [64, 64, 1]                   \n",
      "  3                -1  1     73984  models.common.Conv                      [64, 128, 3, 2]               \n",
      "  4                -1  2    115712  models.common.C3                        [128, 128, 2]                 \n",
      "  5                -1  1    295424  models.common.Conv                      [128, 256, 3, 2]              \n",
      "  6                -1  3    625152  models.common.C3                        [256, 256, 3]                 \n",
      "  7                -1  1   1180672  models.common.Conv                      [256, 512, 3, 2]              \n",
      "  8                -1  1   1182720  models.common.C3                        [512, 512, 1]                 \n",
      "  9                -1  1    656896  models.common.SPPF                      [512, 512, 5]                 \n",
      " 10                -1  1    131584  models.common.Conv                      [512, 256, 1, 1]              \n",
      " 11                -1  1         0  torch.nn.modules.upsampling.Upsample    [None, 2, 'nearest']          \n",
      " 12           [-1, 6]  1         0  models.common.Concat                    [1]                           \n",
      " 13                -1  1    361984  models.common.C3                        [512, 256, 1, False]          \n",
      " 14                -1  1     33024  models.common.Conv                      [256, 128, 1, 1]              \n",
      " 15                -1  1         0  torch.nn.modules.upsampling.Upsample    [None, 2, 'nearest']          \n",
      " 16           [-1, 4]  1         0  models.common.Concat                    [1]                           \n",
      " 17                -1  1     90880  models.common.C3                        [256, 128, 1, False]          \n",
      " 18                -1  1    147712  models.common.Conv                      [128, 128, 3, 2]              \n",
      " 19          [-1, 14]  1         0  models.common.Concat                    [1]                           \n",
      " 20                -1  1    296448  models.common.C3                        [256, 256, 1, False]          \n",
      " 21                -1  1    590336  models.common.Conv                      [256, 256, 3, 2]              \n",
      " 22          [-1, 10]  1         0  models.common.Concat                    [1]                           \n",
      " 23                -1  1   1182720  models.common.C3                        [512, 512, 1, False]          \n",
      " 24      [17, 20, 23]  1    229245  models.yolo.Detect                      [80, [[10, 13, 16, 30, 33, 23], [30, 61, 62, 45, 59, 119], [116, 90, 156, 198, 373, 326]], [128, 256, 512]]\n",
      "YOLOv5s summary: 214 layers, 7235389 parameters, 7235389 gradients, 16.6 GFLOPs\n",
      "\n",
      "\u001b[34m\u001b[1moptimizer:\u001b[0m SGD(lr=0.01) with parameter groups 57 weight(decay=0.0), 60 weight(decay=0.0005), 60 bias\n",
      "\u001b[34m\u001b[1mtrain: \u001b[0mScanning C:\\Users\\medco\\OneDrive\\Documents\\GitHub\\motorcycle-detection-using-yolov5-python-computer-vision\\datasets\\coco\\train2017... 117266 images, 1021 backgrounds, 0 corrupt: 100%|██████████| 118287/118287 [03:24<00:00, 579.55it/s] \n",
      "\u001b[34m\u001b[1mtrain: \u001b[0mWARNING  C:\\Users\\medco\\OneDrive\\Documents\\GitHub\\motorcycle-detection-using-yolov5-python-computer-vision\\datasets\\coco\\images\\train2017\\000000099844.jpg: 2 duplicate labels removed\n",
      "\u001b[34m\u001b[1mtrain: \u001b[0mWARNING  C:\\Users\\medco\\OneDrive\\Documents\\GitHub\\motorcycle-detection-using-yolov5-python-computer-vision\\datasets\\coco\\images\\train2017\\000000201706.jpg: 1 duplicate labels removed\n",
      "\u001b[34m\u001b[1mtrain: \u001b[0mWARNING  C:\\Users\\medco\\OneDrive\\Documents\\GitHub\\motorcycle-detection-using-yolov5-python-computer-vision\\datasets\\coco\\images\\train2017\\000000214087.jpg: 1 duplicate labels removed\n",
      "\u001b[34m\u001b[1mtrain: \u001b[0mWARNING  C:\\Users\\medco\\OneDrive\\Documents\\GitHub\\motorcycle-detection-using-yolov5-python-computer-vision\\datasets\\coco\\images\\train2017\\000000522365.jpg: 1 duplicate labels removed\n",
      "\u001b[34m\u001b[1mtrain: \u001b[0mNew cache created: C:\\Users\\medco\\OneDrive\\Documents\\GitHub\\motorcycle-detection-using-yolov5-python-computer-vision\\datasets\\coco\\train2017.cache\n",
      "\u001b[34m\u001b[1mval: \u001b[0mScanning C:\\Users\\medco\\OneDrive\\Documents\\GitHub\\motorcycle-detection-using-yolov5-python-computer-vision\\datasets\\coco\\val2017... 4952 images, 48 backgrounds, 0 corrupt: 100%|██████████| 5000/5000 [00:20<00:00, 247.64it/s] \n",
      "\u001b[34m\u001b[1mval: \u001b[0mNew cache created: C:\\Users\\medco\\OneDrive\\Documents\\GitHub\\motorcycle-detection-using-yolov5-python-computer-vision\\datasets\\coco\\val2017.cache\n",
      "\n",
      "\u001b[34m\u001b[1mAutoAnchor: \u001b[0m4.45 anchors/target, 0.995 Best Possible Recall (BPR). Current anchors are a good fit to dataset \n",
      "Plotting labels to runs\\train\\exp\\labels.jpg... \n"
     ]
    },
    {
     "ename": "",
     "evalue": "",
     "output_type": "error",
     "traceback": [
      "\u001b[1;31mCanceled future for execute_request message before replies were done"
     ]
    },
    {
     "ename": "",
     "evalue": "",
     "output_type": "error",
     "traceback": [
      "\u001b[1;31mThe Kernel crashed while executing code in the the current cell or a previous cell. Please review the code in the cell(s) to identify a possible cause of the failure. Click <a href='https://aka.ms/vscodeJupyterKernelCrash'>here</a> for more info. View Jupyter <a href='command:jupyter.viewOutput'>log</a> for further details."
     ]
    }
   ],
   "source": [
    "%run train.py --data coco.yaml --epochs 300 --weights '' --cfg yolov5s.yaml  --batch-size 64"
   ]
  },
  {
   "cell_type": "code",
   "execution_count": null,
   "metadata": {},
   "outputs": [
    {
     "ename": "TypeError",
     "evalue": "load() missing 1 required positional argument: 'model'",
     "output_type": "error",
     "traceback": [
      "\u001b[1;31m---------------------------------------------------------------------------\u001b[0m",
      "\u001b[1;31mTypeError\u001b[0m                                 Traceback (most recent call last)",
      "\u001b[1;32mc:\\Users\\medco\\OneDrive\\Documents\\GitHub\\urbansensing-bikelanes\\test2.ipynb Cell 8\u001b[0m in \u001b[0;36m<cell line: 14>\u001b[1;34m()\u001b[0m\n\u001b[0;32m     <a href='vscode-notebook-cell:/c%3A/Users/medco/OneDrive/Documents/GitHub/urbansensing-bikelanes/test2.ipynb#X16sZmlsZQ%3D%3D?line=10'>11</a>\u001b[0m cv2\u001b[39m.\u001b[39mnamedWindow(\u001b[39m'\u001b[39m\u001b[39mROI\u001b[39m\u001b[39m'\u001b[39m)\n\u001b[0;32m     <a href='vscode-notebook-cell:/c%3A/Users/medco/OneDrive/Documents/GitHub/urbansensing-bikelanes/test2.ipynb#X16sZmlsZQ%3D%3D?line=11'>12</a>\u001b[0m cv2\u001b[39m.\u001b[39msetMouseCallback(\u001b[39m'\u001b[39m\u001b[39mROI\u001b[39m\u001b[39m'\u001b[39m, POINTS)\n\u001b[1;32m---> <a href='vscode-notebook-cell:/c%3A/Users/medco/OneDrive/Documents/GitHub/urbansensing-bikelanes/test2.ipynb#X16sZmlsZQ%3D%3D?line=13'>14</a>\u001b[0m model \u001b[39m=\u001b[39m torch\u001b[39m.\u001b[39;49mhub\u001b[39m.\u001b[39;49mload(\u001b[39m'\u001b[39;49m\u001b[39multralytics/yolov5\u001b[39;49m\u001b[39m'\u001b[39;49m, pretrained\u001b[39m=\u001b[39;49m\u001b[39mTrue\u001b[39;49;00m)\n\u001b[0;32m     <a href='vscode-notebook-cell:/c%3A/Users/medco/OneDrive/Documents/GitHub/urbansensing-bikelanes/test2.ipynb#X16sZmlsZQ%3D%3D?line=14'>15</a>\u001b[0m count\u001b[39m=\u001b[39m\u001b[39m0\u001b[39m\n\u001b[0;32m     <a href='vscode-notebook-cell:/c%3A/Users/medco/OneDrive/Documents/GitHub/urbansensing-bikelanes/test2.ipynb#X16sZmlsZQ%3D%3D?line=15'>16</a>\u001b[0m cap\u001b[39m=\u001b[39mcv2\u001b[39m.\u001b[39mVideoCapture(\u001b[39m'\u001b[39m\u001b[39mvid1bicycle.mp4\u001b[39m\u001b[39m'\u001b[39m)\n",
      "\u001b[1;31mTypeError\u001b[0m: load() missing 1 required positional argument: 'model'"
     ]
    },
    {
     "ename": "",
     "evalue": "",
     "output_type": "error",
     "traceback": [
      "\u001b[1;31mThe Kernel crashed while executing code in the the current cell or a previous cell. Please review the code in the cell(s) to identify a possible cause of the failure. Click <a href='https://aka.ms/vscodeJupyterKernelCrash'>here</a> for more info. View Jupyter <a href='command:jupyter.viewOutput'>log</a> for further details."
     ]
    }
   ],
   "source": [
    "# import torch\n",
    "# import cv2\n",
    "# import numpy as np\n",
    "# from tracker import *\n",
    "\n",
    "# def POINTS(event, x, y, flags, param):\n",
    "#     if event == cv2.EVENT_MOUSEMOVE :  \n",
    "#         colorsBGR = [x, y]\n",
    "#         print(colorsBGR)\n",
    "\n",
    "# cv2.namedWindow('ROI')\n",
    "# cv2.setMouseCallback('ROI', POINTS)\n",
    "\n",
    "# model = torch.hub.load('ultralytics/yolov5', 'yolov5s', pretrained=True)\n",
    "# count=0\n",
    "# cap=cv2.VideoCapture('vid1bicycle.mp4')\n",
    "\n",
    "# tracker=Tracker()\n",
    "\n",
    "# while True:\n",
    "#     ret,frame=cap.read()\n",
    "#     if not ret:\n",
    "#         break\n",
    "#     count += 1\n",
    "#     if count % 3 != 0:\n",
    "#         continue\n",
    "    \n",
    "#     frame=cv2.resize(frame,(1020,600))\n",
    "#     results = model(frame)\n",
    "#     list=[]\n",
    "#     for index, row in results.pandas().xyxy[0].iterrows():\n",
    "#         x1 = int(row['xmin'])\n",
    "#         y1 = int(row['ymin'])\n",
    "#         x2 = int(row['xmax'])\n",
    "#         y2 = int(row['ymax'])\n",
    "#         d=(row['name'])\n",
    "     \n",
    "#         if 'bicycle' in d:\n",
    "#             cv2.rectangle(frame,(x1,y1),(x2,y2),(255,0,0),2)\n",
    "#             cv2.putText(frame,str(d),(x1,y1),cv2.FONT_HERSHEY_COMPLEX,0.5,(0,0,255),1) \n",
    "        \n",
    "#     cv2.imshow(\"ROI\",frame)\n",
    "#     if cv2.waitKey(1)&0xFF==27:\n",
    "#         break\n",
    "# cap.release()\n",
    "# cv2.destroyAllWindows()"
   ]
  }
 ],
 "metadata": {
  "kernelspec": {
   "display_name": "geo_env",
   "language": "python",
   "name": "python3"
  },
  "language_info": {
   "codemirror_mode": {
    "name": "ipython",
    "version": 3
   },
   "file_extension": ".py",
   "mimetype": "text/x-python",
   "name": "python",
   "nbconvert_exporter": "python",
   "pygments_lexer": "ipython3",
   "version": "3.10.2"
  },
  "orig_nbformat": 4
 },
 "nbformat": 4,
 "nbformat_minor": 2
}
